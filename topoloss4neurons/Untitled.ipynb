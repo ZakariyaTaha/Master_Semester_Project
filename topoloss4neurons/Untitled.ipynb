{
 "cells": [
  {
   "cell_type": "code",
   "execution_count": 3,
   "metadata": {},
   "outputs": [],
   "source": [
    "from networks import UNet"
   ]
  },
  {
   "cell_type": "code",
   "execution_count": 13,
   "metadata": {},
   "outputs": [],
   "source": [
    "UNet?"
   ]
  },
  {
   "cell_type": "code",
   "execution_count": 20,
   "metadata": {},
   "outputs": [],
   "source": [
    "u = UNet(n_levels=4, three_dimensional=True, out_channels=1, n_convs=2, m_channels=32)"
   ]
  },
  {
   "cell_type": "code",
   "execution_count": 21,
   "metadata": {
    "scrolled": false
   },
   "outputs": [
    {
     "data": {
      "text/plain": [
       "UNet(\n",
       "  (down_path): Sequential(\n",
       "    (0): DownBlock(\n",
       "      (layers): Sequential(\n",
       "        (0): Conv3d(1, 32, kernel_size=(3, 3, 3), stride=(1, 1, 1), padding=(1, 1, 1))\n",
       "        (1): ReLU(inplace=True)\n",
       "        (2): Conv3d(32, 32, kernel_size=(3, 3, 3), stride=(1, 1, 1), padding=(1, 1, 1))\n",
       "        (3): ReLU(inplace=True)\n",
       "        (4): Dropout3d(p=0.0, inplace=False)\n",
       "      )\n",
       "    )\n",
       "    (1): DownBlock(\n",
       "      (layers): Sequential(\n",
       "        (0): MaxPool3d(kernel_size=2, stride=2, padding=0, dilation=1, ceil_mode=False)\n",
       "        (1): Conv3d(32, 64, kernel_size=(3, 3, 3), stride=(1, 1, 1), padding=(1, 1, 1))\n",
       "        (2): ReLU(inplace=True)\n",
       "        (3): Conv3d(64, 64, kernel_size=(3, 3, 3), stride=(1, 1, 1), padding=(1, 1, 1))\n",
       "        (4): ReLU(inplace=True)\n",
       "        (5): Dropout3d(p=0.0, inplace=False)\n",
       "      )\n",
       "    )\n",
       "    (2): DownBlock(\n",
       "      (layers): Sequential(\n",
       "        (0): MaxPool3d(kernel_size=2, stride=2, padding=0, dilation=1, ceil_mode=False)\n",
       "        (1): Conv3d(64, 128, kernel_size=(3, 3, 3), stride=(1, 1, 1), padding=(1, 1, 1))\n",
       "        (2): ReLU(inplace=True)\n",
       "        (3): Conv3d(128, 128, kernel_size=(3, 3, 3), stride=(1, 1, 1), padding=(1, 1, 1))\n",
       "        (4): ReLU(inplace=True)\n",
       "        (5): Dropout3d(p=0.0, inplace=False)\n",
       "      )\n",
       "    )\n",
       "    (3): DownBlock(\n",
       "      (layers): Sequential(\n",
       "        (0): MaxPool3d(kernel_size=2, stride=2, padding=0, dilation=1, ceil_mode=False)\n",
       "        (1): Conv3d(128, 256, kernel_size=(3, 3, 3), stride=(1, 1, 1), padding=(1, 1, 1))\n",
       "        (2): ReLU(inplace=True)\n",
       "        (3): Conv3d(256, 256, kernel_size=(3, 3, 3), stride=(1, 1, 1), padding=(1, 1, 1))\n",
       "        (4): ReLU(inplace=True)\n",
       "        (5): Dropout3d(p=0.0, inplace=False)\n",
       "      )\n",
       "    )\n",
       "  )\n",
       "  (bottom): Sequential(\n",
       "    (0): DownBlock(\n",
       "      (layers): Sequential(\n",
       "        (0): MaxPool3d(kernel_size=2, stride=2, padding=0, dilation=1, ceil_mode=False)\n",
       "        (1): Conv3d(256, 512, kernel_size=(3, 3, 3), stride=(1, 1, 1), padding=(1, 1, 1))\n",
       "        (2): ReLU(inplace=True)\n",
       "        (3): Conv3d(512, 512, kernel_size=(3, 3, 3), stride=(1, 1, 1), padding=(1, 1, 1))\n",
       "        (4): ReLU(inplace=True)\n",
       "        (5): Dropout3d(p=0.0, inplace=False)\n",
       "      )\n",
       "    )\n",
       "  )\n",
       "  (up_path): Sequential(\n",
       "    (0): UpBlock(\n",
       "      (upsampling): ConvTranspose3d(512, 256, kernel_size=(2, 2, 2), stride=(2, 2, 2))\n",
       "      (layers): Sequential(\n",
       "        (0): Conv3d(512, 256, kernel_size=(3, 3, 3), stride=(1, 1, 1), padding=(1, 1, 1))\n",
       "        (1): ReLU(inplace=True)\n",
       "        (2): Conv3d(256, 256, kernel_size=(3, 3, 3), stride=(1, 1, 1), padding=(1, 1, 1))\n",
       "        (3): ReLU(inplace=True)\n",
       "        (4): Dropout3d(p=0.0, inplace=False)\n",
       "      )\n",
       "    )\n",
       "    (1): UpBlock(\n",
       "      (upsampling): ConvTranspose3d(256, 128, kernel_size=(2, 2, 2), stride=(2, 2, 2))\n",
       "      (layers): Sequential(\n",
       "        (0): Conv3d(256, 128, kernel_size=(3, 3, 3), stride=(1, 1, 1), padding=(1, 1, 1))\n",
       "        (1): ReLU(inplace=True)\n",
       "        (2): Conv3d(128, 128, kernel_size=(3, 3, 3), stride=(1, 1, 1), padding=(1, 1, 1))\n",
       "        (3): ReLU(inplace=True)\n",
       "        (4): Dropout3d(p=0.0, inplace=False)\n",
       "      )\n",
       "    )\n",
       "    (2): UpBlock(\n",
       "      (upsampling): ConvTranspose3d(128, 64, kernel_size=(2, 2, 2), stride=(2, 2, 2))\n",
       "      (layers): Sequential(\n",
       "        (0): Conv3d(128, 64, kernel_size=(3, 3, 3), stride=(1, 1, 1), padding=(1, 1, 1))\n",
       "        (1): ReLU(inplace=True)\n",
       "        (2): Conv3d(64, 64, kernel_size=(3, 3, 3), stride=(1, 1, 1), padding=(1, 1, 1))\n",
       "        (3): ReLU(inplace=True)\n",
       "        (4): Dropout3d(p=0.0, inplace=False)\n",
       "      )\n",
       "    )\n",
       "    (3): UpBlock(\n",
       "      (upsampling): ConvTranspose3d(64, 32, kernel_size=(2, 2, 2), stride=(2, 2, 2))\n",
       "      (layers): Sequential(\n",
       "        (0): Conv3d(64, 32, kernel_size=(3, 3, 3), stride=(1, 1, 1), padding=(1, 1, 1))\n",
       "        (1): ReLU(inplace=True)\n",
       "        (2): Conv3d(32, 32, kernel_size=(3, 3, 3), stride=(1, 1, 1), padding=(1, 1, 1))\n",
       "        (3): ReLU(inplace=True)\n",
       "        (4): Dropout3d(p=0.0, inplace=False)\n",
       "      )\n",
       "    )\n",
       "  )\n",
       "  (last_layer): Conv3d(32, 1, kernel_size=(1, 1, 1), stride=(1, 1, 1))\n",
       ")"
      ]
     },
     "execution_count": 21,
     "metadata": {},
     "output_type": "execute_result"
    }
   ],
   "source": [
    "u"
   ]
  },
  {
   "cell_type": "code",
   "execution_count": null,
   "metadata": {},
   "outputs": [],
   "source": []
  }
 ],
 "metadata": {
  "kernelspec": {
   "display_name": "Python 3 (ipykernel)",
   "language": "python",
   "name": "python3"
  },
  "language_info": {
   "codemirror_mode": {
    "name": "ipython",
    "version": 3
   },
   "file_extension": ".py",
   "mimetype": "text/x-python",
   "name": "python",
   "nbconvert_exporter": "python",
   "pygments_lexer": "ipython3",
   "version": "3.7.6"
  }
 },
 "nbformat": 4,
 "nbformat_minor": 4
}
