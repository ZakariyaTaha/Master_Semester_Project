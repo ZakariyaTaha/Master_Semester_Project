{
 "cells": [
  {
   "cell_type": "code",
   "execution_count": 1,
   "id": "4b96469d",
   "metadata": {},
   "outputs": [],
   "source": [
    "import torch\n",
    "from torch import nn\n",
    "from torch.nn import Conv3d, BatchNorm3d, ReLU\n",
    "from topoloss4neurons.cenet import CE_Net_ as cenet\n",
    "import torch.nn.functional as F"
   ]
  },
  {
   "cell_type": "code",
   "execution_count": 2,
   "id": "629c77e4",
   "metadata": {
    "scrolled": true
   },
   "outputs": [
    {
     "name": "stdout",
     "output_type": "stream",
     "text": [
      "loading pretrained model /cvlabdata1/home/zakariya/SegmentingBrains/codes/MedicalNet/pretrain/resnet_34_23dataset.pth\n"
     ]
    }
   ],
   "source": [
    "network = cenet()"
   ]
  },
  {
   "cell_type": "code",
   "execution_count": 3,
   "id": "94c20f3a",
   "metadata": {},
   "outputs": [],
   "source": [
    "device = 'cuda:1'"
   ]
  },
  {
   "cell_type": "code",
   "execution_count": 4,
   "id": "bbb54b67",
   "metadata": {},
   "outputs": [],
   "source": [
    "x = torch.rand((1, 1, 96, 96, 96)).to(device)"
   ]
  },
  {
   "cell_type": "code",
   "execution_count": 5,
   "id": "0fd785fb",
   "metadata": {
    "scrolled": true
   },
   "outputs": [
    {
     "name": "stderr",
     "output_type": "stream",
     "text": [
      "/cvlabdata2/home/zakariya/miniconda3/lib/python3.7/site-packages/torch/nn/functional.py:3704: UserWarning: nn.functional.upsample is deprecated. Use nn.functional.interpolate instead.\n",
      "  warnings.warn(\"nn.functional.upsample is deprecated. Use nn.functional.interpolate instead.\")\n",
      "/cvlabdata2/home/zakariya/miniconda3/lib/python3.7/site-packages/torch/nn/functional.py:1944: UserWarning: nn.functional.sigmoid is deprecated. Use torch.sigmoid instead.\n",
      "  warnings.warn(\"nn.functional.sigmoid is deprecated. Use torch.sigmoid instead.\")\n"
     ]
    },
    {
     "data": {
      "text/plain": [
       "torch.Size([1, 1, 96, 96, 96])"
      ]
     },
     "execution_count": 5,
     "metadata": {},
     "output_type": "execute_result"
    }
   ],
   "source": [
    "network(x).size()"
   ]
  },
  {
   "cell_type": "code",
   "execution_count": null,
   "id": "a7690444",
   "metadata": {
    "scrolled": true
   },
   "outputs": [],
   "source": [
    "y = torch.rand((1, 3, 224, 224))"
   ]
  },
  {
   "cell_type": "code",
   "execution_count": null,
   "id": "0b706db8",
   "metadata": {
    "scrolled": true
   },
   "outputs": [],
   "source": [
    "network(y)"
   ]
  },
  {
   "cell_type": "code",
   "execution_count": null,
   "id": "64541a1b",
   "metadata": {},
   "outputs": [],
   "source": [
    "inp = torch.rand((1, 512, 6,6,6))"
   ]
  },
  {
   "cell_type": "code",
   "execution_count": null,
   "id": "cc89f18a",
   "metadata": {},
   "outputs": [],
   "source": [
    "pool1 = nn.MaxPool3d(kernel_size=2, stride=2)\n",
    "pool2 = nn.MaxPool3d(kernel_size=3, stride=3)\n",
    "pool3 = nn.MaxPool3d(kernel_size=5, stride=5)\n",
    "pool4 = nn.MaxPool3d(kernel_size=6, stride=6)\n",
    "conv = nn.Conv3d(in_channels=512, out_channels=1, kernel_size=1, padding=0)\n",
    "\n",
    "in_channels, h, w, d = inp.size(1), inp.size(2), inp.size(3), inp.size(4)\n",
    "print(conv(pool1(inp)).size())\n",
    "layer1 = F.upsample(conv(pool1(inp)), size=(h, w, d), mode='nearest')\n",
    "layer2 = F.upsample(conv(pool2(inp)), size=(h, w, d), mode='nearest')\n",
    "layer3 = F.upsample(conv(pool3(inp)), size=(h, w, d), mode='nearest')\n",
    "layer4 = F.upsample(conv(pool4(inp)), size=(h, w, d), mode='nearest')\n",
    "\n",
    "out = torch.cat([layer1, layer2, layer3, layer4, inp], 1)"
   ]
  },
  {
   "cell_type": "code",
   "execution_count": 10,
   "id": "f1e9b85c",
   "metadata": {},
   "outputs": [
    {
     "data": {
      "text/plain": [
       "tensor([[[[0.6049, 0.7306, 0.5306,  ..., 0.7223, 0.6361, 0.6583],\n",
       "          [0.5604, 0.5925, 0.5900,  ..., 0.7175, 0.6893, 0.5290],\n",
       "          [0.7197, 0.5683, 0.6829,  ..., 0.5841, 0.6908, 0.7247],\n",
       "          ...,\n",
       "          [0.6407, 0.5094, 0.5117,  ..., 0.5726, 0.6883, 0.6142],\n",
       "          [0.5614, 0.6161, 0.5459,  ..., 0.6403, 0.5248, 0.6668],\n",
       "          [0.5546, 0.6574, 0.7236,  ..., 0.5360, 0.6850, 0.5843]],\n",
       "\n",
       "         [[0.6391, 0.5920, 0.6642,  ..., 0.5142, 0.6079, 0.7108],\n",
       "          [0.5067, 0.6412, 0.6178,  ..., 0.6537, 0.6949, 0.6886],\n",
       "          [0.6475, 0.6455, 0.6115,  ..., 0.6423, 0.5717, 0.5414],\n",
       "          ...,\n",
       "          [0.6778, 0.5095, 0.5386,  ..., 0.5340, 0.6935, 0.6296],\n",
       "          [0.5818, 0.5121, 0.5757,  ..., 0.5743, 0.6785, 0.6271],\n",
       "          [0.6188, 0.6858, 0.6692,  ..., 0.6294, 0.7248, 0.6776]],\n",
       "\n",
       "         [[0.6435, 0.6942, 0.6607,  ..., 0.6303, 0.5901, 0.5124],\n",
       "          [0.7085, 0.7306, 0.5980,  ..., 0.5332, 0.7069, 0.7213],\n",
       "          [0.6984, 0.7016, 0.5294,  ..., 0.5134, 0.7258, 0.6956],\n",
       "          ...,\n",
       "          [0.6726, 0.6349, 0.7236,  ..., 0.5545, 0.6354, 0.7098],\n",
       "          [0.7308, 0.5349, 0.7176,  ..., 0.6602, 0.7284, 0.5387],\n",
       "          [0.6064, 0.6609, 0.5479,  ..., 0.7226, 0.5375, 0.6808]]]],\n",
       "       grad_fn=<SigmoidBackward0>)"
      ]
     },
     "execution_count": 10,
     "metadata": {},
     "output_type": "execute_result"
    }
   ],
   "source": [
    "F.sigmoid(z)"
   ]
  },
  {
   "cell_type": "code",
   "execution_count": null,
   "id": "00f54598",
   "metadata": {},
   "outputs": [],
   "source": []
  }
 ],
 "metadata": {
  "kernelspec": {
   "display_name": "Python 3 (ipykernel)",
   "language": "python",
   "name": "python3"
  },
  "language_info": {
   "codemirror_mode": {
    "name": "ipython",
    "version": 3
   },
   "file_extension": ".py",
   "mimetype": "text/x-python",
   "name": "python",
   "nbconvert_exporter": "python",
   "pygments_lexer": "ipython3",
   "version": "3.7.6"
  }
 },
 "nbformat": 4,
 "nbformat_minor": 5
}
