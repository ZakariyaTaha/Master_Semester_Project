{
 "cells": [
  {
   "cell_type": "code",
   "execution_count": null,
   "id": "a64d246b",
   "metadata": {},
   "outputs": [],
   "source": [
    "import torch\n",
    "from torch import nn\n",
    "from MedicalNet.models import new_resnet as resnet\n",
    "from torch.nn import Conv3d, BatchNorm3d, ReLU"
   ]
  },
  {
   "cell_type": "markdown",
   "id": "ad58e19e",
   "metadata": {},
   "source": [
    "opt: model, model_depth, n_seg_classes, input_W, input_H, input_D, resnet_shortcut, no_cuda, gpu_id, phase, pretrain_path, new_layer_names"
   ]
  },
  {
   "cell_type": "code",
   "execution_count": null,
   "id": "49bf86fc",
   "metadata": {},
   "outputs": [],
   "source": [
    "class opt:\n",
    "    model = 'resnet'\n",
    "    model_depth = 34\n",
    "    n_seg_classes = 1 # We only segment neurons\n",
    "    input_W = 1\n",
    "    input_H = 1\n",
    "    input_D = 1\n",
    "    resnet_shortcut = 'B' #???\n",
    "    no_cuda = False\n",
    "    gpu_id = []\n",
    "    phase = 'train'\n",
    "    pretrain_path = '/cvlabdata1/home/zakariya/SegmentingBrains/codes/MedicalNet/pretrain/resnet_34_23dataset.pth'\n",
    "    new_layer_names = []"
   ]
  },
  {
   "cell_type": "code",
   "execution_count": null,
   "id": "bc289c7b",
   "metadata": {},
   "outputs": [],
   "source": [
    "def generate_model(opt):\n",
    "    assert opt.model in [\n",
    "        'resnet'\n",
    "    ]\n",
    "\n",
    "    if opt.model == 'resnet':\n",
    "        assert opt.model_depth in [10, 18, 34, 50, 101, 152, 200]\n",
    "        \n",
    "        if opt.model_depth == 10:\n",
    "            model = resnet.resnet10(\n",
    "                sample_input_W=opt.input_W,\n",
    "                sample_input_H=opt.input_H,\n",
    "                sample_input_D=opt.input_D,\n",
    "                shortcut_type=opt.resnet_shortcut,\n",
    "                no_cuda=opt.no_cuda,\n",
    "                num_seg_classes=opt.n_seg_classes)\n",
    "        elif opt.model_depth == 18:\n",
    "            model = resnet.resnet18(\n",
    "                sample_input_W=opt.input_W,\n",
    "                sample_input_H=opt.input_H,\n",
    "                sample_input_D=opt.input_D,\n",
    "                shortcut_type=opt.resnet_shortcut,\n",
    "                no_cuda=opt.no_cuda,\n",
    "                num_seg_classes=opt.n_seg_classes)\n",
    "        elif opt.model_depth == 34:\n",
    "            model = resnet.resnet34(\n",
    "                sample_input_W=opt.input_W,\n",
    "                sample_input_H=opt.input_H,\n",
    "                sample_input_D=opt.input_D,\n",
    "                shortcut_type=opt.resnet_shortcut,\n",
    "                no_cuda=opt.no_cuda,\n",
    "                num_seg_classes=opt.n_seg_classes)\n",
    "        elif opt.model_depth == 50:\n",
    "            model = resnet.resnet50(\n",
    "                sample_input_W=opt.input_W,\n",
    "                sample_input_H=opt.input_H,\n",
    "                sample_input_D=opt.input_D,\n",
    "                shortcut_type=opt.resnet_shortcut,\n",
    "                no_cuda=opt.no_cuda,\n",
    "                num_seg_classes=opt.n_seg_classes)\n",
    "        elif opt.model_depth == 101:\n",
    "            model = resnet.resnet101(\n",
    "                sample_input_W=opt.input_W,\n",
    "                sample_input_H=opt.input_H,\n",
    "                sample_input_D=opt.input_D,\n",
    "                shortcut_type=opt.resnet_shortcut,\n",
    "                no_cuda=opt.no_cuda,\n",
    "                num_seg_classes=opt.n_seg_classes)\n",
    "        elif opt.model_depth == 152:\n",
    "            model = resnet.resnet152(\n",
    "                sample_input_W=opt.input_W,\n",
    "                sample_input_H=opt.input_H,\n",
    "                sample_input_D=opt.input_D,\n",
    "                shortcut_type=opt.resnet_shortcut,\n",
    "                no_cuda=opt.no_cuda,\n",
    "                num_seg_classes=opt.n_seg_classes)\n",
    "        elif opt.model_depth == 200:\n",
    "            model = resnet.resnet200(\n",
    "                sample_input_W=opt.input_W,\n",
    "                sample_input_H=opt.input_H,\n",
    "                sample_input_D=opt.input_D,\n",
    "                shortcut_type=opt.resnet_shortcut,\n",
    "                no_cuda=opt.no_cuda,\n",
    "                num_seg_classes=opt.n_seg_classes)\n",
    "    '''\n",
    "        if not opt.no_cuda:\n",
    "                if len(opt.gpu_id) > 1:\n",
    "                    model = model.cuda() \n",
    "                    model = nn.DataParallel(model, device_ids=opt.gpu_id)\n",
    "                    net_dict = model.state_dict() \n",
    "                else:\n",
    "                    import os\n",
    "                    os.environ[\"CUDA_VISIBLE_DEVICES\"]=str(opt.gpu_id[0])\n",
    "                    model = model.cuda() \n",
    "                    model = nn.DataParallel(model, device_ids=None)\n",
    "                    net_dict = model.state_dict()\n",
    "    '''  \n",
    "\n",
    "    model = model.cuda() \n",
    "    net_dict = model.state_dict() \n",
    "\n",
    "    # load pretrain\n",
    "    if opt.phase == 'train' and opt.pretrain_path:\n",
    "        print ('loading pretrained model {}'.format(opt.pretrain_path))\n",
    "        if str(opt.model_depth) not in opt.pretrain_path:\n",
    "            raise Exception('Loaded wrong model number')\n",
    "        pretrain = torch.load(opt.pretrain_path)\n",
    "        #pretrain_dict = {k: v for k, v in pretrain['state_dict'].items() if k in net_dict.keys()} #doesnt load anything, arent the same\n",
    "        pretrain_dict = {}\n",
    "        for k, v in pretrain['state_dict'].items():\n",
    "            for key in net_dict.keys():\n",
    "                if key == k.replace('module.', ''):\n",
    "                    pretrain_dict[key] = v\n",
    "         \n",
    "        net_dict.update(pretrain_dict)\n",
    "        model.load_state_dict(net_dict)\n",
    "\n",
    "        new_parameters = [] \n",
    "        for pname, p in model.named_parameters():\n",
    "            for layer_name in opt.new_layer_names:\n",
    "                if pname.find(layer_name) >= 0:\n",
    "                    new_parameters.append(p)\n",
    "                    break\n",
    "\n",
    "        new_parameters_id = list(map(id, new_parameters))\n",
    "        base_parameters = list(filter(lambda p: id(p) not in new_parameters_id, model.parameters()))\n",
    "        parameters = {'base_parameters': base_parameters, \n",
    "                      'new_parameters': new_parameters}\n",
    "\n",
    "        return model, parameters\n",
    "\n",
    "    return model, model.parameters()\n"
   ]
  },
  {
   "cell_type": "markdown",
   "id": "942c29ed",
   "metadata": {},
   "source": [
    "Bottleneck's conv3d downsample isn't applied directly, it's added to the output of the bottelneck"
   ]
  },
  {
   "cell_type": "code",
   "execution_count": null,
   "id": "f55f8a6c",
   "metadata": {},
   "outputs": [],
   "source": [
    "pr = opt()"
   ]
  },
  {
   "cell_type": "code",
   "execution_count": null,
   "id": "39e2f59d",
   "metadata": {},
   "outputs": [],
   "source": [
    "model, params = generate_model(pr)"
   ]
  },
  {
   "cell_type": "code",
   "execution_count": null,
   "id": "fe91e3a5",
   "metadata": {},
   "outputs": [],
   "source": [
    "x = torch.rand((1, 1, 64, 64, 64)).to('cuda')"
   ]
  },
  {
   "cell_type": "code",
   "execution_count": null,
   "id": "8944d6c4",
   "metadata": {},
   "outputs": [],
   "source": [
    "seq1 = nn.Sequential(\n",
    "    nn.Conv3d(1, 64, kernel_size=(7, 7, 7), stride=(1, 1, 1), padding=(3, 3, 3), bias=False),\n",
    "    nn.BatchNorm3d(64, eps=1e-05, momentum=0.1, affine=True, track_running_stats=True),\n",
    "    nn.ReLU(inplace=True)).to('cuda')\n",
    "maxp = nn.MaxPool3d(kernel_size=(3, 3, 3), stride=2, padding=1, dilation=1, ceil_mode=False).to('cuda')\n",
    "layer1 = nn.Sequential(maxp, model.layer1)\n",
    "layer2 = model.layer2\n",
    "layer3 = model.layer3\n",
    "layer4 = model.layer4\n",
    "conv_s = model.conv_seg"
   ]
  },
  {
   "cell_type": "code",
   "execution_count": null,
   "id": "c2ae8af3",
   "metadata": {
    "scrolled": true
   },
   "outputs": [],
   "source": [
    "#print(seq1(x).size())\n",
    "print(layer1(seq1(x)).size())\n",
    "print(layer2(layer1(seq1(x))).size())\n",
    "print(layer3(layer2(layer1(seq1(x)))).size())\n",
    "print(layer4(layer3(layer2(layer1(seq1(x))))).size())"
   ]
  },
  {
   "cell_type": "code",
   "execution_count": null,
   "id": "29d316ba",
   "metadata": {},
   "outputs": [],
   "source": [
    "x1,x2,x3,x4,x5 = model(x)"
   ]
  },
  {
   "cell_type": "code",
   "execution_count": null,
   "id": "22f82fe7",
   "metadata": {},
   "outputs": [],
   "source": [
    "model"
   ]
  },
  {
   "cell_type": "code",
   "execution_count": null,
   "id": "f735561f",
   "metadata": {},
   "outputs": [],
   "source": [
    "print(x1.size())\n",
    "print(x2.size())\n",
    "print(x3.size())\n",
    "print(x4.size())\n",
    "print(x5.size())"
   ]
  },
  {
   "cell_type": "markdown",
   "id": "629f2302",
   "metadata": {},
   "source": [
    "## ResUnet Network"
   ]
  },
  {
   "cell_type": "markdown",
   "id": "baa45aa8",
   "metadata": {},
   "source": [
    "min 64x64x64"
   ]
  },
  {
   "cell_type": "code",
   "execution_count": 1,
   "id": "ef53efb4",
   "metadata": {},
   "outputs": [],
   "source": [
    "import torch\n",
    "from torch import nn\n",
    "from MedicalNet.models import new_resnet as resnet\n",
    "from torch.nn import Conv3d, BatchNorm3d, ReLU\n",
    "from topoloss4neurons.networksResUnet import ResUNet, UNet\n",
    "from topoloss4neurons.networksResUnetV2 import ResUNetV2"
   ]
  },
  {
   "cell_type": "code",
   "execution_count": 2,
   "id": "45b7699b",
   "metadata": {},
   "outputs": [],
   "source": [
    "x = torch.rand((1, 1, 64, 64, 64)).to('cuda')\n",
    "y = torch.rand((1, 1, 64, 64, 64))"
   ]
  },
  {
   "cell_type": "code",
   "execution_count": 3,
   "id": "75a2d51f",
   "metadata": {
    "scrolled": true
   },
   "outputs": [
    {
     "name": "stdout",
     "output_type": "stream",
     "text": [
      "loading pretrained model /cvlabdata1/home/zakariya/SegmentingBrains/codes/MedicalNet/pretrain/resnet_34_23dataset.pth\n",
      "loading pretrained model /cvlabdata1/home/zakariya/SegmentingBrains/codes/MedicalNet/pretrain/resnet_34_23dataset.pth\n"
     ]
    }
   ],
   "source": [
    "network = ResUNet(n_levels=4, three_dimensional=True, out_channels=1, n_convs=2, m_channels=32) # mchannels = 32 with resnet 34 and levels = 4 # or add 2 layer block\n",
    "network2 = UNet(n_levels=5, three_dimensional=True, out_channels=1, n_convs=2, m_channels=32)\n",
    "networkV2 = ResUNetV2(n_levels=5, three_dimensional=True, out_channels=1, n_convs=2, m_channels=32)\n"
   ]
  },
  {
   "cell_type": "code",
   "execution_count": 4,
   "id": "36f69a85",
   "metadata": {},
   "outputs": [
    {
     "data": {
      "text/plain": [
       "ResUNet(\n",
       "  (down_path): ResNet(\n",
       "    (conv1): Conv3d(1, 64, kernel_size=(7, 7, 7), stride=(1, 1, 1), padding=(3, 3, 3), bias=False)\n",
       "    (bn1): BatchNorm3d(64, eps=1e-05, momentum=0.1, affine=True, track_running_stats=True)\n",
       "    (relu): ReLU(inplace=True)\n",
       "    (maxpool): MaxPool3d(kernel_size=(3, 3, 3), stride=2, padding=1, dilation=1, ceil_mode=False)\n",
       "    (layer1): Sequential(\n",
       "      (0): BasicBlock(\n",
       "        (conv1): Conv3d(64, 64, kernel_size=(3, 3, 3), stride=(1, 1, 1), padding=(1, 1, 1), bias=False)\n",
       "        (bn1): BatchNorm3d(64, eps=1e-05, momentum=0.1, affine=True, track_running_stats=True)\n",
       "        (relu): ReLU(inplace=True)\n",
       "        (conv2): Conv3d(64, 64, kernel_size=(3, 3, 3), stride=(1, 1, 1), padding=(1, 1, 1), bias=False)\n",
       "        (bn2): BatchNorm3d(64, eps=1e-05, momentum=0.1, affine=True, track_running_stats=True)\n",
       "      )\n",
       "      (1): BasicBlock(\n",
       "        (conv1): Conv3d(64, 64, kernel_size=(3, 3, 3), stride=(1, 1, 1), padding=(1, 1, 1), bias=False)\n",
       "        (bn1): BatchNorm3d(64, eps=1e-05, momentum=0.1, affine=True, track_running_stats=True)\n",
       "        (relu): ReLU(inplace=True)\n",
       "        (conv2): Conv3d(64, 64, kernel_size=(3, 3, 3), stride=(1, 1, 1), padding=(1, 1, 1), bias=False)\n",
       "        (bn2): BatchNorm3d(64, eps=1e-05, momentum=0.1, affine=True, track_running_stats=True)\n",
       "      )\n",
       "      (2): BasicBlock(\n",
       "        (conv1): Conv3d(64, 64, kernel_size=(3, 3, 3), stride=(1, 1, 1), padding=(1, 1, 1), bias=False)\n",
       "        (bn1): BatchNorm3d(64, eps=1e-05, momentum=0.1, affine=True, track_running_stats=True)\n",
       "        (relu): ReLU(inplace=True)\n",
       "        (conv2): Conv3d(64, 64, kernel_size=(3, 3, 3), stride=(1, 1, 1), padding=(1, 1, 1), bias=False)\n",
       "        (bn2): BatchNorm3d(64, eps=1e-05, momentum=0.1, affine=True, track_running_stats=True)\n",
       "      )\n",
       "    )\n",
       "    (layer2): Sequential(\n",
       "      (0): BasicBlock(\n",
       "        (conv1): Conv3d(64, 128, kernel_size=(3, 3, 3), stride=(2, 2, 2), padding=(1, 1, 1), bias=False)\n",
       "        (bn1): BatchNorm3d(128, eps=1e-05, momentum=0.1, affine=True, track_running_stats=True)\n",
       "        (relu): ReLU(inplace=True)\n",
       "        (conv2): Conv3d(128, 128, kernel_size=(3, 3, 3), stride=(1, 1, 1), padding=(1, 1, 1), bias=False)\n",
       "        (bn2): BatchNorm3d(128, eps=1e-05, momentum=0.1, affine=True, track_running_stats=True)\n",
       "        (downsample): Sequential(\n",
       "          (0): Conv3d(64, 128, kernel_size=(1, 1, 1), stride=(2, 2, 2), bias=False)\n",
       "          (1): BatchNorm3d(128, eps=1e-05, momentum=0.1, affine=True, track_running_stats=True)\n",
       "        )\n",
       "      )\n",
       "      (1): BasicBlock(\n",
       "        (conv1): Conv3d(128, 128, kernel_size=(3, 3, 3), stride=(1, 1, 1), padding=(1, 1, 1), bias=False)\n",
       "        (bn1): BatchNorm3d(128, eps=1e-05, momentum=0.1, affine=True, track_running_stats=True)\n",
       "        (relu): ReLU(inplace=True)\n",
       "        (conv2): Conv3d(128, 128, kernel_size=(3, 3, 3), stride=(1, 1, 1), padding=(1, 1, 1), bias=False)\n",
       "        (bn2): BatchNorm3d(128, eps=1e-05, momentum=0.1, affine=True, track_running_stats=True)\n",
       "      )\n",
       "      (2): BasicBlock(\n",
       "        (conv1): Conv3d(128, 128, kernel_size=(3, 3, 3), stride=(1, 1, 1), padding=(1, 1, 1), bias=False)\n",
       "        (bn1): BatchNorm3d(128, eps=1e-05, momentum=0.1, affine=True, track_running_stats=True)\n",
       "        (relu): ReLU(inplace=True)\n",
       "        (conv2): Conv3d(128, 128, kernel_size=(3, 3, 3), stride=(1, 1, 1), padding=(1, 1, 1), bias=False)\n",
       "        (bn2): BatchNorm3d(128, eps=1e-05, momentum=0.1, affine=True, track_running_stats=True)\n",
       "      )\n",
       "      (3): BasicBlock(\n",
       "        (conv1): Conv3d(128, 128, kernel_size=(3, 3, 3), stride=(1, 1, 1), padding=(1, 1, 1), bias=False)\n",
       "        (bn1): BatchNorm3d(128, eps=1e-05, momentum=0.1, affine=True, track_running_stats=True)\n",
       "        (relu): ReLU(inplace=True)\n",
       "        (conv2): Conv3d(128, 128, kernel_size=(3, 3, 3), stride=(1, 1, 1), padding=(1, 1, 1), bias=False)\n",
       "        (bn2): BatchNorm3d(128, eps=1e-05, momentum=0.1, affine=True, track_running_stats=True)\n",
       "      )\n",
       "    )\n",
       "    (layer3): Sequential(\n",
       "      (0): BasicBlock(\n",
       "        (conv1): Conv3d(128, 256, kernel_size=(3, 3, 3), stride=(2, 2, 2), padding=(2, 2, 2), dilation=(2, 2, 2), bias=False)\n",
       "        (bn1): BatchNorm3d(256, eps=1e-05, momentum=0.1, affine=True, track_running_stats=True)\n",
       "        (relu): ReLU(inplace=True)\n",
       "        (conv2): Conv3d(256, 256, kernel_size=(3, 3, 3), stride=(1, 1, 1), padding=(2, 2, 2), dilation=(2, 2, 2), bias=False)\n",
       "        (bn2): BatchNorm3d(256, eps=1e-05, momentum=0.1, affine=True, track_running_stats=True)\n",
       "        (downsample): Sequential(\n",
       "          (0): Conv3d(128, 256, kernel_size=(1, 1, 1), stride=(2, 2, 2), bias=False)\n",
       "          (1): BatchNorm3d(256, eps=1e-05, momentum=0.1, affine=True, track_running_stats=True)\n",
       "        )\n",
       "      )\n",
       "      (1): BasicBlock(\n",
       "        (conv1): Conv3d(256, 256, kernel_size=(3, 3, 3), stride=(1, 1, 1), padding=(2, 2, 2), dilation=(2, 2, 2), bias=False)\n",
       "        (bn1): BatchNorm3d(256, eps=1e-05, momentum=0.1, affine=True, track_running_stats=True)\n",
       "        (relu): ReLU(inplace=True)\n",
       "        (conv2): Conv3d(256, 256, kernel_size=(3, 3, 3), stride=(1, 1, 1), padding=(2, 2, 2), dilation=(2, 2, 2), bias=False)\n",
       "        (bn2): BatchNorm3d(256, eps=1e-05, momentum=0.1, affine=True, track_running_stats=True)\n",
       "      )\n",
       "      (2): BasicBlock(\n",
       "        (conv1): Conv3d(256, 256, kernel_size=(3, 3, 3), stride=(1, 1, 1), padding=(2, 2, 2), dilation=(2, 2, 2), bias=False)\n",
       "        (bn1): BatchNorm3d(256, eps=1e-05, momentum=0.1, affine=True, track_running_stats=True)\n",
       "        (relu): ReLU(inplace=True)\n",
       "        (conv2): Conv3d(256, 256, kernel_size=(3, 3, 3), stride=(1, 1, 1), padding=(2, 2, 2), dilation=(2, 2, 2), bias=False)\n",
       "        (bn2): BatchNorm3d(256, eps=1e-05, momentum=0.1, affine=True, track_running_stats=True)\n",
       "      )\n",
       "      (3): BasicBlock(\n",
       "        (conv1): Conv3d(256, 256, kernel_size=(3, 3, 3), stride=(1, 1, 1), padding=(2, 2, 2), dilation=(2, 2, 2), bias=False)\n",
       "        (bn1): BatchNorm3d(256, eps=1e-05, momentum=0.1, affine=True, track_running_stats=True)\n",
       "        (relu): ReLU(inplace=True)\n",
       "        (conv2): Conv3d(256, 256, kernel_size=(3, 3, 3), stride=(1, 1, 1), padding=(2, 2, 2), dilation=(2, 2, 2), bias=False)\n",
       "        (bn2): BatchNorm3d(256, eps=1e-05, momentum=0.1, affine=True, track_running_stats=True)\n",
       "      )\n",
       "      (4): BasicBlock(\n",
       "        (conv1): Conv3d(256, 256, kernel_size=(3, 3, 3), stride=(1, 1, 1), padding=(2, 2, 2), dilation=(2, 2, 2), bias=False)\n",
       "        (bn1): BatchNorm3d(256, eps=1e-05, momentum=0.1, affine=True, track_running_stats=True)\n",
       "        (relu): ReLU(inplace=True)\n",
       "        (conv2): Conv3d(256, 256, kernel_size=(3, 3, 3), stride=(1, 1, 1), padding=(2, 2, 2), dilation=(2, 2, 2), bias=False)\n",
       "        (bn2): BatchNorm3d(256, eps=1e-05, momentum=0.1, affine=True, track_running_stats=True)\n",
       "      )\n",
       "      (5): BasicBlock(\n",
       "        (conv1): Conv3d(256, 256, kernel_size=(3, 3, 3), stride=(1, 1, 1), padding=(2, 2, 2), dilation=(2, 2, 2), bias=False)\n",
       "        (bn1): BatchNorm3d(256, eps=1e-05, momentum=0.1, affine=True, track_running_stats=True)\n",
       "        (relu): ReLU(inplace=True)\n",
       "        (conv2): Conv3d(256, 256, kernel_size=(3, 3, 3), stride=(1, 1, 1), padding=(2, 2, 2), dilation=(2, 2, 2), bias=False)\n",
       "        (bn2): BatchNorm3d(256, eps=1e-05, momentum=0.1, affine=True, track_running_stats=True)\n",
       "      )\n",
       "    )\n",
       "    (layer4): Sequential(\n",
       "      (0): BasicBlock(\n",
       "        (conv1): Conv3d(256, 512, kernel_size=(3, 3, 3), stride=(2, 2, 2), padding=(4, 4, 4), dilation=(4, 4, 4), bias=False)\n",
       "        (bn1): BatchNorm3d(512, eps=1e-05, momentum=0.1, affine=True, track_running_stats=True)\n",
       "        (relu): ReLU(inplace=True)\n",
       "        (conv2): Conv3d(512, 512, kernel_size=(3, 3, 3), stride=(1, 1, 1), padding=(4, 4, 4), dilation=(4, 4, 4), bias=False)\n",
       "        (bn2): BatchNorm3d(512, eps=1e-05, momentum=0.1, affine=True, track_running_stats=True)\n",
       "        (downsample): Sequential(\n",
       "          (0): Conv3d(256, 512, kernel_size=(1, 1, 1), stride=(2, 2, 2), bias=False)\n",
       "          (1): BatchNorm3d(512, eps=1e-05, momentum=0.1, affine=True, track_running_stats=True)\n",
       "        )\n",
       "      )\n",
       "      (1): BasicBlock(\n",
       "        (conv1): Conv3d(512, 512, kernel_size=(3, 3, 3), stride=(1, 1, 1), padding=(4, 4, 4), dilation=(4, 4, 4), bias=False)\n",
       "        (bn1): BatchNorm3d(512, eps=1e-05, momentum=0.1, affine=True, track_running_stats=True)\n",
       "        (relu): ReLU(inplace=True)\n",
       "        (conv2): Conv3d(512, 512, kernel_size=(3, 3, 3), stride=(1, 1, 1), padding=(4, 4, 4), dilation=(4, 4, 4), bias=False)\n",
       "        (bn2): BatchNorm3d(512, eps=1e-05, momentum=0.1, affine=True, track_running_stats=True)\n",
       "      )\n",
       "      (2): BasicBlock(\n",
       "        (conv1): Conv3d(512, 512, kernel_size=(3, 3, 3), stride=(1, 1, 1), padding=(4, 4, 4), dilation=(4, 4, 4), bias=False)\n",
       "        (bn1): BatchNorm3d(512, eps=1e-05, momentum=0.1, affine=True, track_running_stats=True)\n",
       "        (relu): ReLU(inplace=True)\n",
       "        (conv2): Conv3d(512, 512, kernel_size=(3, 3, 3), stride=(1, 1, 1), padding=(4, 4, 4), dilation=(4, 4, 4), bias=False)\n",
       "        (bn2): BatchNorm3d(512, eps=1e-05, momentum=0.1, affine=True, track_running_stats=True)\n",
       "      )\n",
       "    )\n",
       "    (conv_seg): Sequential(\n",
       "      (0): ConvTranspose3d(512, 32, kernel_size=(2, 2, 2), stride=(2, 2, 2))\n",
       "      (1): BatchNorm3d(32, eps=1e-05, momentum=0.1, affine=True, track_running_stats=True)\n",
       "      (2): ReLU(inplace=True)\n",
       "      (3): Conv3d(32, 32, kernel_size=(3, 3, 3), stride=(1, 1, 1), padding=(1, 1, 1), bias=False)\n",
       "      (4): BatchNorm3d(32, eps=1e-05, momentum=0.1, affine=True, track_running_stats=True)\n",
       "      (5): ReLU(inplace=True)\n",
       "      (6): Conv3d(32, 1, kernel_size=(1, 1, 1), stride=(1, 1, 1), bias=False)\n",
       "    )\n",
       "  )\n",
       "  (bottom): Sequential(\n",
       "    (0): DownBlock(\n",
       "      (layers): Sequential(\n",
       "        (0): MaxPool3d(kernel_size=2, stride=2, padding=0, dilation=1, ceil_mode=False)\n",
       "        (1): Conv3d(512, 1024, kernel_size=(3, 3, 3), stride=(1, 1, 1), padding=(1, 1, 1))\n",
       "        (2): ReLU(inplace=True)\n",
       "        (3): Conv3d(1024, 1024, kernel_size=(3, 3, 3), stride=(1, 1, 1), padding=(1, 1, 1))\n",
       "        (4): ReLU(inplace=True)\n",
       "        (5): Dropout3d(p=0.0, inplace=False)\n",
       "      )\n",
       "    )\n",
       "  )\n",
       "  (up_path): Sequential(\n",
       "    (0): UpBlock(\n",
       "      (upsampling): ConvTranspose3d(1024, 512, kernel_size=(2, 2, 2), stride=(2, 2, 2))\n",
       "      (layers): Sequential(\n",
       "        (0): Conv3d(1024, 512, kernel_size=(3, 3, 3), stride=(1, 1, 1), padding=(1, 1, 1))\n",
       "        (1): ReLU(inplace=True)\n",
       "        (2): Conv3d(512, 512, kernel_size=(3, 3, 3), stride=(1, 1, 1), padding=(1, 1, 1))\n",
       "        (3): ReLU(inplace=True)\n",
       "        (4): Dropout3d(p=0.0, inplace=False)\n",
       "      )\n",
       "    )\n",
       "    (1): UpBlock(\n",
       "      (upsampling): ConvTranspose3d(512, 256, kernel_size=(2, 2, 2), stride=(2, 2, 2))\n",
       "      (layers): Sequential(\n",
       "        (0): Conv3d(512, 256, kernel_size=(3, 3, 3), stride=(1, 1, 1), padding=(1, 1, 1))\n",
       "        (1): ReLU(inplace=True)\n",
       "        (2): Conv3d(256, 256, kernel_size=(3, 3, 3), stride=(1, 1, 1), padding=(1, 1, 1))\n",
       "        (3): ReLU(inplace=True)\n",
       "        (4): Dropout3d(p=0.0, inplace=False)\n",
       "      )\n",
       "    )\n",
       "    (2): UpBlock(\n",
       "      (upsampling): ConvTranspose3d(256, 128, kernel_size=(2, 2, 2), stride=(2, 2, 2))\n",
       "      (layers): Sequential(\n",
       "        (0): Conv3d(256, 128, kernel_size=(3, 3, 3), stride=(1, 1, 1), padding=(1, 1, 1))\n",
       "        (1): ReLU(inplace=True)\n",
       "        (2): Conv3d(128, 128, kernel_size=(3, 3, 3), stride=(1, 1, 1), padding=(1, 1, 1))\n",
       "        (3): ReLU(inplace=True)\n",
       "        (4): Dropout3d(p=0.0, inplace=False)\n",
       "      )\n",
       "    )\n",
       "    (3): UpBlock(\n",
       "      (upsampling): ConvTranspose3d(128, 64, kernel_size=(2, 2, 2), stride=(2, 2, 2))\n",
       "      (layers): Sequential(\n",
       "        (0): Conv3d(128, 64, kernel_size=(3, 3, 3), stride=(1, 1, 1), padding=(1, 1, 1))\n",
       "        (1): ReLU(inplace=True)\n",
       "        (2): Conv3d(64, 64, kernel_size=(3, 3, 3), stride=(1, 1, 1), padding=(1, 1, 1))\n",
       "        (3): ReLU(inplace=True)\n",
       "        (4): Dropout3d(p=0.0, inplace=False)\n",
       "      )\n",
       "    )\n",
       "  )\n",
       "  (last_up_path): UpBlockFinal(\n",
       "    (upsampling): ConvTranspose3d(64, 32, kernel_size=(2, 2, 2), stride=(2, 2, 2))\n",
       "    (layers): Sequential(\n",
       "      (0): Conv3d(32, 32, kernel_size=(3, 3, 3), stride=(1, 1, 1), padding=(1, 1, 1))\n",
       "      (1): ReLU(inplace=True)\n",
       "      (2): Conv3d(32, 32, kernel_size=(3, 3, 3), stride=(1, 1, 1), padding=(1, 1, 1))\n",
       "      (3): ReLU(inplace=True)\n",
       "      (4): Dropout3d(p=0.0, inplace=False)\n",
       "    )\n",
       "  )\n",
       "  (last_layer): Conv3d(32, 1, kernel_size=(1, 1, 1), stride=(1, 1, 1))\n",
       ")"
      ]
     },
     "execution_count": 4,
     "metadata": {},
     "output_type": "execute_result"
    }
   ],
   "source": [
    "network"
   ]
  },
  {
   "cell_type": "code",
   "execution_count": 5,
   "id": "da37ac2b",
   "metadata": {
    "scrolled": false
   },
   "outputs": [
    {
     "data": {
      "text/plain": [
       "torch.Size([1, 1, 64, 64, 64])"
      ]
     },
     "execution_count": 5,
     "metadata": {},
     "output_type": "execute_result"
    }
   ],
   "source": [
    "network(x).size()"
   ]
  },
  {
   "cell_type": "code",
   "execution_count": null,
   "id": "c1fd35ab",
   "metadata": {},
   "outputs": [],
   "source": [
    "networkV2"
   ]
  },
  {
   "cell_type": "markdown",
   "id": "673b3d87",
   "metadata": {},
   "source": [
    "not use 5 levels of first because will need 5 concatenations but resnet only has 4 layers"
   ]
  },
  {
   "cell_type": "code",
   "execution_count": null,
   "id": "8e277577",
   "metadata": {},
   "outputs": [],
   "source": []
  }
 ],
 "metadata": {
  "kernelspec": {
   "display_name": "Python 3 (ipykernel)",
   "language": "python",
   "name": "python3"
  },
  "language_info": {
   "codemirror_mode": {
    "name": "ipython",
    "version": 3
   },
   "file_extension": ".py",
   "mimetype": "text/x-python",
   "name": "python",
   "nbconvert_exporter": "python",
   "pygments_lexer": "ipython3",
   "version": "3.7.6"
  }
 },
 "nbformat": 4,
 "nbformat_minor": 5
}
