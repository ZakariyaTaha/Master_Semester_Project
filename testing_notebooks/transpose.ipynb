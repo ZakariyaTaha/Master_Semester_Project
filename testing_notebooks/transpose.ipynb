{
 "cells": [
  {
   "cell_type": "code",
   "execution_count": 2,
   "id": "ff6085ef",
   "metadata": {},
   "outputs": [],
   "source": [
    "#### import cv2\n",
    "from scipy.ndimage import distance_transform_edt as dist\n",
    "import IPython.display \n",
    "import importlib\n",
    "import skimage.io as imgio\n",
    "import numpy as np\n",
    "import os\n",
    "import torch\n",
    "import torch.nn.functional as F\n",
    "import math\n",
    "import re\n",
    "from matplotlib import pyplot as plt\n",
    "from scipy import ndimage\n",
    "from topoloss4neurons.networks import UNet\n",
    "import networktraining as nt\n",
    "import os\n",
    "import tifffile\n",
    "import skimage\n",
    "from utils4 import getCube, findCubes, getCubeCoords, loadTahaPred\n",
    "from tqdm import tqdm\n",
    "%matplotlib inline\n",
    "# %matplotlib notebook"
   ]
  },
  {
   "cell_type": "code",
   "execution_count": 53,
   "id": "dc89aa41",
   "metadata": {},
   "outputs": [],
   "source": [
    "base1 = \"/cvlabdata2/home/zakariya/CarlsData/other_Brains_Preds/\"\n",
    "base2 = \"/cvlabdata1/home/zakariya/CarlsData/\"\n",
    "brains1 = [\"225\", \"250\"]\n",
    "brains2 = [\"244\", \"261\"]"
   ]
  },
  {
   "cell_type": "code",
   "execution_count": 54,
   "id": "a4b9fb8e",
   "metadata": {},
   "outputs": [
    {
     "data": {
      "text/plain": [
       "['088840',\n",
       " '086310',\n",
       " '091370',\n",
       " '093900',\n",
       " '083780',\n",
       " '096430',\n",
       " '081250',\n",
       " '098960',\n",
       " '078720',\n",
       " '101490',\n",
       " '076190',\n",
       " '104020',\n",
       " '073660',\n",
       " '071120',\n",
       " '068580',\n",
       " '066040',\n",
       " '.ipynb_checkpoints',\n",
       " '063500']"
      ]
     },
     "execution_count": 54,
     "metadata": {},
     "output_type": "execute_result"
    }
   ],
   "source": [
    "os.listdir(f'{base2}AL{brains2[1]}')"
   ]
  },
  {
   "cell_type": "code",
   "execution_count": 55,
   "id": "40477401",
   "metadata": {},
   "outputs": [
    {
     "data": {
      "text/plain": [
       "['086080',\n",
       " '083550',\n",
       " '088610',\n",
       " '081020',\n",
       " '091140',\n",
       " '093670',\n",
       " '078490',\n",
       " '096200',\n",
       " '075960',\n",
       " '098730',\n",
       " '073430',\n",
       " '101260',\n",
       " '103790',\n",
       " '106320',\n",
       " '108850']"
      ]
     },
     "execution_count": 55,
     "metadata": {},
     "output_type": "execute_result"
    }
   ],
   "source": [
    "brain_j = 250\n",
    "os.listdir(f'{base1}AL{brain_j}')"
   ]
  },
  {
   "cell_type": "code",
   "execution_count": 59,
   "id": "927b4848",
   "metadata": {
    "scrolled": true
   },
   "outputs": [],
   "source": [
    "for brain_i in brains1:    \n",
    "    for folder_y in os.listdir(f'{base1}AL{brain_i}'):\n",
    "            for folder_x in os.listdir(f'{base1}AL{brain_i}/{folder_y}'):\n",
    "                for file_yxz in os.listdir(f'{base1}AL{brain_i}/{folder_y}/{folder_x}'):\n",
    "                    if file_yxz.endswith(\"tif\"):\n",
    "                        im = tifffile.imread(f'{base1}AL{brain_i}/{folder_y}/{folder_x}/{file_yxz}')\n",
    "                        im = im.transpose((2,0,1))\n",
    "                        tifffile.imsave(f'{base1}AL{brain_i}/{folder_y}/{folder_x}/{file_yxz}', im)"
   ]
  },
  {
   "cell_type": "code",
   "execution_count": 60,
   "id": "628dc11e",
   "metadata": {},
   "outputs": [],
   "source": [
    "for brain_i in brains2:    \n",
    "    for folder_y in os.listdir(f'{base2}AL{brain_i}'):\n",
    "            for folder_x in os.listdir(f'{base2}AL{brain_i}/{folder_y}'):\n",
    "                for file_yxz in os.listdir(f'{base2}AL{brain_i}/{folder_y}/{folder_x}'):\n",
    "                    if file_yxz.endswith(\"tif\"):\n",
    "                        im = tifffile.imread(f'{base2}AL{brain_i}/{folder_y}/{folder_x}/{file_yxz}')\n",
    "                        im = im.transpose((2,0,1))\n",
    "                        tifffile.imsave(f'{base2}AL{brain_i}/{folder_y}/{folder_x}/{file_yxz}', im)"
   ]
  },
  {
   "cell_type": "code",
   "execution_count": 61,
   "id": "3e51386d",
   "metadata": {},
   "outputs": [
    {
     "name": "stdout",
     "output_type": "stream",
     "text": [
      "(249, 252, 256)\n",
      "(249, 252, 256)\n",
      "(248, 252, 256)\n",
      "(249, 252, 256)\n",
      "(248, 252, 256)\n",
      "(249, 252, 256)\n",
      "(249, 252, 256)\n",
      "(248, 252, 256)\n",
      "(249, 252, 256)\n"
     ]
    },
    {
     "ename": "KeyboardInterrupt",
     "evalue": "",
     "output_type": "error",
     "traceback": [
      "\u001b[0;31m---------------------------------------------------------------------------\u001b[0m",
      "\u001b[0;31mKeyboardInterrupt\u001b[0m                         Traceback (most recent call last)",
      "\u001b[0;32m/tmp/ipykernel_13625/3271786705.py\u001b[0m in \u001b[0;36m<module>\u001b[0;34m\u001b[0m\n\u001b[1;32m      4\u001b[0m                 \u001b[0;32mfor\u001b[0m \u001b[0mfile_yxz\u001b[0m \u001b[0;32min\u001b[0m \u001b[0mos\u001b[0m\u001b[0;34m.\u001b[0m\u001b[0mlistdir\u001b[0m\u001b[0;34m(\u001b[0m\u001b[0;34mf'{base1}AL{brain_i}/{folder_y}/{folder_x}'\u001b[0m\u001b[0;34m)\u001b[0m\u001b[0;34m:\u001b[0m\u001b[0;34m\u001b[0m\u001b[0;34m\u001b[0m\u001b[0m\n\u001b[1;32m      5\u001b[0m                     \u001b[0;32mif\u001b[0m \u001b[0mfile_yxz\u001b[0m\u001b[0;34m.\u001b[0m\u001b[0mendswith\u001b[0m\u001b[0;34m(\u001b[0m\u001b[0;34m\"tif\"\u001b[0m\u001b[0;34m)\u001b[0m\u001b[0;34m:\u001b[0m\u001b[0;34m\u001b[0m\u001b[0;34m\u001b[0m\u001b[0m\n\u001b[0;32m----> 6\u001b[0;31m                         \u001b[0mim\u001b[0m \u001b[0;34m=\u001b[0m \u001b[0mtifffile\u001b[0m\u001b[0;34m.\u001b[0m\u001b[0mimread\u001b[0m\u001b[0;34m(\u001b[0m\u001b[0;34mf'{base1}AL{brain_i}/{folder_y}/{folder_x}/{file_yxz}'\u001b[0m\u001b[0;34m)\u001b[0m\u001b[0;34m\u001b[0m\u001b[0;34m\u001b[0m\u001b[0m\n\u001b[0m\u001b[1;32m      7\u001b[0m \u001b[0;34m\u001b[0m\u001b[0m\n\u001b[1;32m      8\u001b[0m                         \u001b[0mprint\u001b[0m\u001b[0;34m(\u001b[0m\u001b[0mim\u001b[0m\u001b[0;34m.\u001b[0m\u001b[0mshape\u001b[0m\u001b[0;34m)\u001b[0m\u001b[0;34m\u001b[0m\u001b[0;34m\u001b[0m\u001b[0m\n",
      "\u001b[0;32m/cvlabdata2/home/zakariya/miniconda3/lib/python3.7/site-packages/tifffile/tifffile.py\u001b[0m in \u001b[0;36mimread\u001b[0;34m(files, aszarr, **kwargs)\u001b[0m\n\u001b[1;32m    892\u001b[0m                 \u001b[0;32mif\u001b[0m \u001b[0maszarr\u001b[0m\u001b[0;34m:\u001b[0m\u001b[0;34m\u001b[0m\u001b[0;34m\u001b[0m\u001b[0m\n\u001b[1;32m    893\u001b[0m                     \u001b[0;32mreturn\u001b[0m \u001b[0mtif\u001b[0m\u001b[0;34m.\u001b[0m\u001b[0maszarr\u001b[0m\u001b[0;34m(\u001b[0m\u001b[0;34m**\u001b[0m\u001b[0mkwargs\u001b[0m\u001b[0;34m)\u001b[0m\u001b[0;34m\u001b[0m\u001b[0;34m\u001b[0m\u001b[0m\n\u001b[0;32m--> 894\u001b[0;31m                 \u001b[0;32mreturn\u001b[0m \u001b[0mtif\u001b[0m\u001b[0;34m.\u001b[0m\u001b[0masarray\u001b[0m\u001b[0;34m(\u001b[0m\u001b[0;34m**\u001b[0m\u001b[0mkwargs\u001b[0m\u001b[0;34m)\u001b[0m\u001b[0;34m\u001b[0m\u001b[0;34m\u001b[0m\u001b[0m\n\u001b[0m\u001b[1;32m    895\u001b[0m \u001b[0;34m\u001b[0m\u001b[0m\n\u001b[1;32m    896\u001b[0m     \u001b[0;32mwith\u001b[0m \u001b[0mTiffSequence\u001b[0m\u001b[0;34m(\u001b[0m\u001b[0mfiles\u001b[0m\u001b[0;34m,\u001b[0m \u001b[0;34m**\u001b[0m\u001b[0mkwargs_seq\u001b[0m\u001b[0;34m)\u001b[0m \u001b[0;32mas\u001b[0m \u001b[0mimseq\u001b[0m\u001b[0;34m:\u001b[0m\u001b[0;34m\u001b[0m\u001b[0;34m\u001b[0m\u001b[0m\n",
      "\u001b[0;32m/cvlabdata2/home/zakariya/miniconda3/lib/python3.7/site-packages/tifffile/tifffile.py\u001b[0m in \u001b[0;36masarray\u001b[0;34m(self, key, series, level, squeeze, out, maxworkers)\u001b[0m\n\u001b[1;32m   3369\u001b[0m                 \u001b[0mself\u001b[0m\u001b[0;34m.\u001b[0m\u001b[0mfilehandle\u001b[0m\u001b[0;34m.\u001b[0m\u001b[0mseek\u001b[0m\u001b[0;34m(\u001b[0m\u001b[0mseries\u001b[0m\u001b[0;34m.\u001b[0m\u001b[0moffset\u001b[0m\u001b[0;34m)\u001b[0m\u001b[0;34m\u001b[0m\u001b[0;34m\u001b[0m\u001b[0m\n\u001b[1;32m   3370\u001b[0m                 result = self.filehandle.read_array(\n\u001b[0;32m-> 3371\u001b[0;31m                     \u001b[0mtypecode\u001b[0m\u001b[0;34m,\u001b[0m \u001b[0mproduct\u001b[0m\u001b[0;34m(\u001b[0m\u001b[0mshape\u001b[0m\u001b[0;34m)\u001b[0m\u001b[0;34m,\u001b[0m \u001b[0mout\u001b[0m\u001b[0;34m=\u001b[0m\u001b[0mout\u001b[0m\u001b[0;34m\u001b[0m\u001b[0;34m\u001b[0m\u001b[0m\n\u001b[0m\u001b[1;32m   3372\u001b[0m                 )\n\u001b[1;32m   3373\u001b[0m         \u001b[0;32melif\u001b[0m \u001b[0mlen\u001b[0m\u001b[0;34m(\u001b[0m\u001b[0mpages\u001b[0m\u001b[0;34m)\u001b[0m \u001b[0;34m==\u001b[0m \u001b[0;36m1\u001b[0m\u001b[0;34m:\u001b[0m\u001b[0;34m\u001b[0m\u001b[0;34m\u001b[0m\u001b[0m\n",
      "\u001b[0;32m/cvlabdata2/home/zakariya/miniconda3/lib/python3.7/site-packages/tifffile/tifffile.py\u001b[0m in \u001b[0;36mread_array\u001b[0;34m(self, dtype, count, out)\u001b[0m\n\u001b[1;32m  10591\u001b[0m \u001b[0;34m\u001b[0m\u001b[0m\n\u001b[1;32m  10592\u001b[0m         \u001b[0;32mtry\u001b[0m\u001b[0;34m:\u001b[0m\u001b[0;34m\u001b[0m\u001b[0;34m\u001b[0m\u001b[0m\n\u001b[0;32m> 10593\u001b[0;31m             \u001b[0mn\u001b[0m \u001b[0;34m=\u001b[0m \u001b[0mself\u001b[0m\u001b[0;34m.\u001b[0m\u001b[0m_fh\u001b[0m\u001b[0;34m.\u001b[0m\u001b[0mreadinto\u001b[0m\u001b[0;34m(\u001b[0m\u001b[0mresult\u001b[0m\u001b[0;34m)\u001b[0m\u001b[0;34m\u001b[0m\u001b[0;34m\u001b[0m\u001b[0m\n\u001b[0m\u001b[1;32m  10594\u001b[0m         \u001b[0;32mexcept\u001b[0m \u001b[0mAttributeError\u001b[0m\u001b[0;34m:\u001b[0m\u001b[0;34m\u001b[0m\u001b[0;34m\u001b[0m\u001b[0m\n\u001b[1;32m  10595\u001b[0m             result[:] = numpy.frombuffer(self._fh.read(nbytes), dtype).reshape(\n",
      "\u001b[0;31mKeyboardInterrupt\u001b[0m: "
     ]
    }
   ],
   "source": [
    "for brain_i in brains1:    \n",
    "    for folder_y in os.listdir(f'{base1}AL{brain_i}'):\n",
    "            for folder_x in os.listdir(f'{base1}AL{brain_i}/{folder_y}'):\n",
    "                for file_yxz in os.listdir(f'{base1}AL{brain_i}/{folder_y}/{folder_x}'):\n",
    "                    if file_yxz.endswith(\"tif\"):\n",
    "                        im = tifffile.imread(f'{base1}AL{brain_i}/{folder_y}/{folder_x}/{file_yxz}')\n",
    "                        \n",
    "                        print(im.shape)"
   ]
  },
  {
   "cell_type": "code",
   "execution_count": null,
   "id": "70ddf468",
   "metadata": {},
   "outputs": [],
   "source": []
  }
 ],
 "metadata": {
  "kernelspec": {
   "display_name": "Python 3 (ipykernel)",
   "language": "python",
   "name": "python3"
  },
  "language_info": {
   "codemirror_mode": {
    "name": "ipython",
    "version": 3
   },
   "file_extension": ".py",
   "mimetype": "text/x-python",
   "name": "python",
   "nbconvert_exporter": "python",
   "pygments_lexer": "ipython3",
   "version": "3.7.6"
  }
 },
 "nbformat": 4,
 "nbformat_minor": 5
}
